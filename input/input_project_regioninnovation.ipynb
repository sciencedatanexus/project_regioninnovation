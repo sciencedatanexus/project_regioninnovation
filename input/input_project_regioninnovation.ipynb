{
 "cells": [
  {
   "cell_type": "markdown",
   "id": "f33c5394-0279-40c8-915f-127e8692e62f",
   "metadata": {},
   "source": [
    "# Data pipeline notebook"
   ]
  },
  {
   "cell_type": "raw",
   "id": "0fa1a9f3-ebdc-47a4-adb0-8fa025f98f45",
   "metadata": {
    "vscode": {
     "languageId": "raw"
    }
   },
   "source": [
    "# coding=utf-8\n",
    "\n",
    "# =============================================================================\n",
    "# \"\"\"\n",
    "# .. notebookauthor:: Jean-Francois Desvignes <jfd@sciencedatanexus.com>\n",
    "# .. version:: 1.0.0\n",
    "# .. description:: data pipeline for Consulting project (developed for project: OPP:20250101).\n",
    "# :Copyright: Jean-Francois Desvignes for Science Data Nexus\n",
    "# :Science Data Nexus, 2024\n",
    "# :Contact: Jean-Francois Desvignes <jfd@sciencedatanexus.com>\n",
    "# :Updated: 2025-01-30\n",
    "# \"\"\"\n",
    "# ============================================================================="
   ]
  },
  {
   "cell_type": "markdown",
   "id": "5d7dfe71-6743-4392-b22b-40a3869d8a76",
   "metadata": {},
   "source": [
    "HOWTO\n",
    "1) Setup steps:\n",
    "    - Make sure you have the latest version from the git folder\n",
    "2) copy the folder with the latest version of the module (eg. input_pipeline_2_0_0\n",
    "    - Run \"project_setup_new.py\" after selecting project_name and module version\n",
    "3) Rename the folder and all copies of project_2024_10_1 with the project name\n",
    "4) Select the version of the module to use: sys.modules[\"input_pipeline.modules\"] = input_pipeline.modules_N_N_N\n",
    "5) Change the \"Global variables\", *project_name* is the most important variable\n",
    "6) start setting up the pipeline by adapting the \"Pipeline setup\". The pipeline will rune sequentially each step in the steps list.\n",
    "7) run the script\n",
    "8) To re-run the script some intermediary files in the \"tempdir\" folder need to be removed\n",
    "9) Specifics:\n",
    "    - Run with EC2 16Gb.\n",
    "    - For 'rib' step, it needs EC2 32Gb when number of RID > 10k (up to 15k)"
   ]
  },
  {
   "cell_type": "markdown",
   "id": "a4c7131f-b5d1-4061-a1bc-a0cafe8bfcc3",
   "metadata": {},
   "source": [
    "## Modules"
   ]
  },
  {
   "cell_type": "code",
   "execution_count": null,
   "id": "aad5b3e7-f171-4db6-b420-c5c437bcd658",
   "metadata": {},
   "outputs": [
    {
     "data": {
      "text/plain": [
       "'\\nAdd modules when needed when custom pipelines are run such as:\\nfrom input_pipeline.consulting_pipeline.utils.connect_db import *\\nimport pandas as pd\\nimport os\\nimport matplotlib.pyplot as plt\\nfrom matplotlib_venn import venn3, venn3_circles\\n'"
      ]
     },
     "execution_count": 36,
     "metadata": {},
     "output_type": "execute_result"
    }
   ],
   "source": [
    "# Python modules\n",
    "import sys\n",
    "import warnings\n",
    "import logging\n",
    "import yaml\n",
    "# Science Data Nexus modules - version control to use\n",
    "\"\"\"\n",
    "Replace by the version of the module that was used at the time (eg. 1_0_0)\n",
    "\"\"\"\n",
    "sys.path.append(r'/Users/jfd/Documents/sciencedatanexus/code/nexus_dev')  ## to ensure the local modules are imported correctly\n",
    "import input_pipeline.pipeline_1_0_0 as pl\n",
    "sys.modules[\"input_pipeline.pipeline\"] = pl\n",
    "# Load Data pipeline module\n",
    "from input_pipeline.pipeline.datapipeline import *\n",
    "\"\"\"\n",
    "Add modules when needed when custom pipelines are run such as:\n",
    "import pandas as pd\n",
    "import os\n",
    "import matplotlib.pyplot as plt\n",
    "from matplotlib_venn import venn3, venn3_circles\n",
    "\"\"\""
   ]
  },
  {
   "cell_type": "markdown",
   "id": "c7dc0101-6e83-4987-88d9-4109005196b2",
   "metadata": {},
   "source": [
    "## Functions and classes\n",
    "cus = final step, generally used to customise the standard deliverable, by default empty Project specific customised code"
   ]
  },
  {
   "cell_type": "code",
   "execution_count": null,
   "id": "66f1ebdf",
   "metadata": {},
   "outputs": [],
   "source": [
    "def pipeline_cus(pipeline_object):\n",
    "    print(\"\\t >>> Custom project\")\n",
    "    print(\"\\t >>> start custom project here\")\n",
    "    print(\"\\t\\t An example of a customised function: extract a sample n=1000 uids\")\n",
    "    # df = pd.read_csv(os.path.join(pipeline_object.outdir, 'papers_dataset.txt'), sep='|')\n",
    "    # df = df.sample(1000)\n",
    "    # print(pipeline_object.outdir)\n",
    "    # df.to_csv(os.path.join(pipeline_object.outdir, 'sample.txt'), index=False, header=True, sep='|')\n",
    "    # l = ','.join([\"'\" + i + \"'\" for i in df.uid.to_list()])\n",
    "    # conn = create_connection_to_postgresql(\"PSQL\")\n",
    "    # query = \"select uid, cnci, percentile from sand.baselines where uid in ({});\".format(l)\n",
    "    # df = pd.read_sql_query(query, conn)\n",
    "    # df.to_csv(os.path.join(pipeline_object.outdir, 'sample_metrics_baselines.txt'), index=False, header=True, sep='\\t')\n",
    "    # conn.close()\n",
    "    # return df\n",
    "    print(\"\\t >>> completion of custom project\")"
   ]
  },
  {
   "cell_type": "markdown",
   "id": "4955ae4e",
   "metadata": {},
   "source": [
    "## Global variables"
   ]
  },
  {
   "cell_type": "code",
   "execution_count": null,
   "id": "0af9e2b7-f929-41a5-b5b6-b156fc0696cb",
   "metadata": {},
   "outputs": [],
   "source": [
    "project_config = \"../config/project_variables.yaml\"\n",
    "with open(project_config, 'r') as f:\n",
    "    project_variables = yaml.safe_load(f)"
   ]
  },
  {
   "cell_type": "markdown",
   "id": "17378b61-a911-4014-98ce-d45a109e90cc",
   "metadata": {},
   "source": [
    "## Start of script"
   ]
  },
  {
   "cell_type": "markdown",
   "id": "be285690-6ea9-437a-8d55-508108b46373",
   "metadata": {},
   "source": [
    "### Warning and log management"
   ]
  },
  {
   "cell_type": "code",
   "execution_count": null,
   "id": "df0efc7a-cbec-40b0-9ee0-60ebc742e31d",
   "metadata": {},
   "outputs": [],
   "source": [
    "warnings.simplefilter(action='ignore', category=FutureWarning)  # remove FutureWarning notifications\n",
    "log_file = '_{0}.log'.format(project_variables[\"project_dir_name\"])\n",
    "logging.basicConfig(level=logging.DEBUG, filename=log_file, filemode='w')  # setup for error log output for DEBUG"
   ]
  },
  {
   "cell_type": "markdown",
   "id": "087483d3-e71c-47d2-ad33-e123e41bbde9",
   "metadata": {},
   "source": [
    "### Creation of the ConsultingDataPipeLine() object (p1)"
   ]
  },
  {
   "cell_type": "code",
   "execution_count": null,
   "id": "41f82316-c1fc-48d7-9a4a-0314bc3e2b5d",
   "metadata": {},
   "outputs": [],
   "source": [
    "p1 = DataPipeLine(\n",
    "        project_name=project_variables[\"project_name\"],\n",
    "        ror_version=project_variables[\"ror_version\"],\n",
    "        project_start_year=project_variables[\"project_start_year\"],\n",
    "        project_end_year=project_variables[\"project_end_year\"],\n",
    "        project_dir_name=project_variables[\"project_dir_name\"],\n",
    "        root_dir=project_variables[\"main_directory\"],\n",
    "        data_dir=project_variables[\"data_directory\"],\n",
    "        configfile=project_variables[\"configfile\"],\n",
    "        baseline_version=project_variables[\"baseline_version\"],\n",
    "        project_variant=project_variables[\"project_variant\"]\n",
    ")"
   ]
  },
  {
   "cell_type": "markdown",
   "id": "430054ba-868d-4663-a661-1852c4a6a76d",
   "metadata": {},
   "source": [
    "### Setup of specific variables for the project (not all variables are relevant)"
   ]
  },
  {
   "cell_type": "code",
   "execution_count": null,
   "id": "336d9373-3a94-47c3-9723-49d7d04724f8",
   "metadata": {},
   "outputs": [],
   "source": [
    "## Baselines variables:\n",
    "p1.baselines_start = 2000\n",
    "## S3 export\n",
    "p1.s3_bucket = \"sciencedatanexus\"\n",
    "p1.network_sample_size = 1000"
   ]
  },
  {
   "cell_type": "markdown",
   "id": "89ce7ef8-df5a-4e7c-89dc-59acbdd847a0",
   "metadata": {},
   "source": [
    "    Details in library/input_pipeline_VERSION/README.txt\n",
    "    Run individual steps in the pipeline\n",
    "    Steps to run (order is very important as dependencies exist between steps)\n",
    "    Usage: \n",
    "    1) add as many pipeline step as needed, for instance p1.pipeline_end()\n",
    "    2) run the script\n",
    "    3) log of results is saved in the app_project_name.log file\n",
    "    steps:\n",
    "    p1.pipeline_1st()\n",
    "    p1.pipeline_len()\n",
    "    p1.pipeline_ddb()\n",
    "    # Examples of methods with options\n",
    "    p1.project_variant = None  # set to another value (eg 'sub1' to create sub-project data\n",
    "    p1.pipeline_inc('api/uid')"
   ]
  },
  {
   "cell_type": "markdown",
   "id": "197b7fc2-eecd-4a29-b01e-081d86b5abfa",
   "metadata": {},
   "source": [
    "**Pipeline execution details need to be documented in this Notebook**"
   ]
  },
  {
   "cell_type": "code",
   "execution_count": null,
   "id": "016a51c4-e900-4b9f-ada1-97fa0adf8017",
   "metadata": {},
   "outputs": [],
   "source": [
    "# p1.pipeline_bas()\n",
    "# p1.pipeline_len()\n",
    "# p1.pipeline_ddb()\n",
    "# p1.pipeline_fix()"
   ]
  },
  {
   "cell_type": "markdown",
   "id": "1a507b71-9889-4516-bbc5-a8d69c6de849",
   "metadata": {},
   "source": [
    "### Run new custom steps in the pipeline, including customised versions of the pipeline"
   ]
  },
  {
   "cell_type": "code",
   "execution_count": null,
   "id": "9f56d865-1359-4538-b8e7-8a37c146dee6",
   "metadata": {},
   "outputs": [],
   "source": [
    "# pipeline_cus()"
   ]
  },
  {
   "cell_type": "markdown",
   "id": "0ec1b05d-3e9a-441b-be0b-1443144ba158",
   "metadata": {},
   "source": [
    "### End of script"
   ]
  },
  {
   "cell_type": "code",
   "execution_count": null,
   "id": "efa1d418-20f7-44ca-bf64-e21baba7a573",
   "metadata": {},
   "outputs": [],
   "source": [
    "print(\"data pipeline completed\")"
   ]
  }
 ],
 "metadata": {
  "kernelspec": {
   "display_name": "Python (myenv312)",
   "language": "python",
   "name": "myenv312"
  },
  "language_info": {
   "codemirror_mode": {
    "name": "ipython",
    "version": 3
   },
   "file_extension": ".py",
   "mimetype": "text/x-python",
   "name": "python",
   "nbconvert_exporter": "python",
   "pygments_lexer": "ipython3",
   "version": "3.12.5"
  }
 },
 "nbformat": 4,
 "nbformat_minor": 5
}
